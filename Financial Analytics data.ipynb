{
 "cells": [
  {
   "cell_type": "markdown",
   "id": "cd7a01e4",
   "metadata": {},
   "source": [
    "# Financial Analytics data"
   ]
  },
  {
   "cell_type": "code",
   "execution_count": 1,
   "id": "d2f87ab4",
   "metadata": {},
   "outputs": [],
   "source": [
    "import pandas as pd \n",
    "import numpy as np\n",
    "import matplotlib.pyplot as plt\n",
    "import seaborn as sns"
   ]
  },
  {
   "cell_type": "code",
   "execution_count": 2,
   "id": "e8067c57",
   "metadata": {},
   "outputs": [],
   "source": [
    "#df = pd.read_csv(r\"E:\\DATA_SCIENCE\\Desktop\\UNIFIED\\Data Science Projects\\Financial Analytics data.csv\")"
   ]
  },
  {
   "cell_type": "code",
   "execution_count": 47,
   "id": "09bb33be",
   "metadata": {},
   "outputs": [
    {
     "data": {
      "text/html": [
       "<div>\n",
       "<style scoped>\n",
       "    .dataframe tbody tr th:only-of-type {\n",
       "        vertical-align: middle;\n",
       "    }\n",
       "\n",
       "    .dataframe tbody tr th {\n",
       "        vertical-align: top;\n",
       "    }\n",
       "\n",
       "    .dataframe thead th {\n",
       "        text-align: right;\n",
       "    }\n",
       "</style>\n",
       "<table border=\"1\" class=\"dataframe\">\n",
       "  <thead>\n",
       "    <tr style=\"text-align: right;\">\n",
       "      <th></th>\n",
       "      <th>Name</th>\n",
       "      <th>Mar Cap - Crore</th>\n",
       "      <th>Sales Qtr - Crore</th>\n",
       "    </tr>\n",
       "  </thead>\n",
       "  <tbody>\n",
       "    <tr>\n",
       "      <th>0</th>\n",
       "      <td>I O C L</td>\n",
       "      <td>178017.48</td>\n",
       "      <td>110666.93</td>\n",
       "    </tr>\n",
       "    <tr>\n",
       "      <th>1</th>\n",
       "      <td>Reliance Inds.</td>\n",
       "      <td>583436.72</td>\n",
       "      <td>99810.00</td>\n",
       "    </tr>\n",
       "    <tr>\n",
       "      <th>2</th>\n",
       "      <td>Tata Motors</td>\n",
       "      <td>117071.87</td>\n",
       "      <td>74156.07</td>\n",
       "    </tr>\n",
       "    <tr>\n",
       "      <th>3</th>\n",
       "      <td>B P C L</td>\n",
       "      <td>98278.00</td>\n",
       "      <td>60616.36</td>\n",
       "    </tr>\n",
       "    <tr>\n",
       "      <th>4</th>\n",
       "      <td>H P C L</td>\n",
       "      <td>58034.78</td>\n",
       "      <td>57474.25</td>\n",
       "    </tr>\n",
       "  </tbody>\n",
       "</table>\n",
       "</div>"
      ],
      "text/plain": [
       "             Name  Mar Cap - Crore  Sales Qtr - Crore\n",
       "0         I O C L        178017.48          110666.93\n",
       "1  Reliance Inds.        583436.72           99810.00\n",
       "2     Tata Motors        117071.87           74156.07\n",
       "3         B P C L         98278.00           60616.36\n",
       "4         H P C L         58034.78           57474.25"
      ]
     },
     "execution_count": 47,
     "metadata": {},
     "output_type": "execute_result"
    }
   ],
   "source": [
    "df.head()"
   ]
  },
  {
   "cell_type": "code",
   "execution_count": 4,
   "id": "ec002345",
   "metadata": {},
   "outputs": [],
   "source": [
    "df.drop(columns=['S.No.'],inplace=True)"
   ]
  },
  {
   "cell_type": "code",
   "execution_count": 5,
   "id": "2ede7a74",
   "metadata": {},
   "outputs": [
    {
     "data": {
      "text/html": [
       "<div>\n",
       "<style scoped>\n",
       "    .dataframe tbody tr th:only-of-type {\n",
       "        vertical-align: middle;\n",
       "    }\n",
       "\n",
       "    .dataframe tbody tr th {\n",
       "        vertical-align: top;\n",
       "    }\n",
       "\n",
       "    .dataframe thead th {\n",
       "        text-align: right;\n",
       "    }\n",
       "</style>\n",
       "<table border=\"1\" class=\"dataframe\">\n",
       "  <thead>\n",
       "    <tr style=\"text-align: right;\">\n",
       "      <th></th>\n",
       "      <th>Name</th>\n",
       "      <th>Mar Cap - Crore</th>\n",
       "      <th>Sales Qtr - Crore</th>\n",
       "    </tr>\n",
       "  </thead>\n",
       "  <tbody>\n",
       "    <tr>\n",
       "      <th>0</th>\n",
       "      <td>Info Edg.(India)</td>\n",
       "      <td>14845.05</td>\n",
       "      <td>NaN</td>\n",
       "    </tr>\n",
       "    <tr>\n",
       "      <th>1</th>\n",
       "      <td>Mahindra CIE</td>\n",
       "      <td>8587.04</td>\n",
       "      <td>NaN</td>\n",
       "    </tr>\n",
       "    <tr>\n",
       "      <th>2</th>\n",
       "      <td>Prism Cement</td>\n",
       "      <td>6176.23</td>\n",
       "      <td>NaN</td>\n",
       "    </tr>\n",
       "    <tr>\n",
       "      <th>3</th>\n",
       "      <td>GE Power</td>\n",
       "      <td>5497.40</td>\n",
       "      <td>NaN</td>\n",
       "    </tr>\n",
       "    <tr>\n",
       "      <th>4</th>\n",
       "      <td>MMTC</td>\n",
       "      <td>5300.00</td>\n",
       "      <td>NaN</td>\n",
       "    </tr>\n",
       "    <tr>\n",
       "      <th>...</th>\n",
       "      <td>...</td>\n",
       "      <td>...</td>\n",
       "      <td>...</td>\n",
       "    </tr>\n",
       "    <tr>\n",
       "      <th>483</th>\n",
       "      <td>Shriram Pistons</td>\n",
       "      <td>3804.58</td>\n",
       "      <td>430.8</td>\n",
       "    </tr>\n",
       "    <tr>\n",
       "      <th>484</th>\n",
       "      <td>IFCI</td>\n",
       "      <td>3789.45</td>\n",
       "      <td>626.8</td>\n",
       "    </tr>\n",
       "    <tr>\n",
       "      <th>485</th>\n",
       "      <td>Force Motors</td>\n",
       "      <td>NaN</td>\n",
       "      <td>NaN</td>\n",
       "    </tr>\n",
       "    <tr>\n",
       "      <th>486</th>\n",
       "      <td>JP Power Ven.</td>\n",
       "      <td>3597.60</td>\n",
       "      <td>NaN</td>\n",
       "    </tr>\n",
       "    <tr>\n",
       "      <th>487</th>\n",
       "      <td>L T Foods</td>\n",
       "      <td>NaN</td>\n",
       "      <td>NaN</td>\n",
       "    </tr>\n",
       "  </tbody>\n",
       "</table>\n",
       "<p>488 rows × 3 columns</p>\n",
       "</div>"
      ],
      "text/plain": [
       "                 Name  Mar Cap - Crore  Sales Qtr - Crore\n",
       "0    Info Edg.(India)         14845.05                NaN\n",
       "1        Mahindra CIE          8587.04                NaN\n",
       "2        Prism Cement          6176.23                NaN\n",
       "3            GE Power          5497.40                NaN\n",
       "4                MMTC          5300.00                NaN\n",
       "..                ...              ...                ...\n",
       "483   Shriram Pistons          3804.58              430.8\n",
       "484              IFCI          3789.45              626.8\n",
       "485      Force Motors              NaN                NaN\n",
       "486     JP Power Ven.          3597.60                NaN\n",
       "487         L T Foods              NaN                NaN\n",
       "\n",
       "[488 rows x 3 columns]"
      ]
     },
     "execution_count": 5,
     "metadata": {},
     "output_type": "execute_result"
    }
   ],
   "source": [
    "df"
   ]
  },
  {
   "cell_type": "code",
   "execution_count": 6,
   "id": "94cc9f03",
   "metadata": {},
   "outputs": [
    {
     "data": {
      "text/html": [
       "<div>\n",
       "<style scoped>\n",
       "    .dataframe tbody tr th:only-of-type {\n",
       "        vertical-align: middle;\n",
       "    }\n",
       "\n",
       "    .dataframe tbody tr th {\n",
       "        vertical-align: top;\n",
       "    }\n",
       "\n",
       "    .dataframe thead th {\n",
       "        text-align: right;\n",
       "    }\n",
       "</style>\n",
       "<table border=\"1\" class=\"dataframe\">\n",
       "  <thead>\n",
       "    <tr style=\"text-align: right;\">\n",
       "      <th></th>\n",
       "      <th>Mar Cap - Crore</th>\n",
       "      <th>Sales Qtr - Crore</th>\n",
       "    </tr>\n",
       "  </thead>\n",
       "  <tbody>\n",
       "    <tr>\n",
       "      <th>count</th>\n",
       "      <td>479.000000</td>\n",
       "      <td>459.000000</td>\n",
       "    </tr>\n",
       "    <tr>\n",
       "      <th>mean</th>\n",
       "      <td>28043.857119</td>\n",
       "      <td>3807.789412</td>\n",
       "    </tr>\n",
       "    <tr>\n",
       "      <th>std</th>\n",
       "      <td>59464.615831</td>\n",
       "      <td>9989.449987</td>\n",
       "    </tr>\n",
       "    <tr>\n",
       "      <th>min</th>\n",
       "      <td>3017.070000</td>\n",
       "      <td>0.000000</td>\n",
       "    </tr>\n",
       "    <tr>\n",
       "      <th>25%</th>\n",
       "      <td>4843.575000</td>\n",
       "      <td>534.910000</td>\n",
       "    </tr>\n",
       "    <tr>\n",
       "      <th>50%</th>\n",
       "      <td>9885.050000</td>\n",
       "      <td>1137.170000</td>\n",
       "    </tr>\n",
       "    <tr>\n",
       "      <th>75%</th>\n",
       "      <td>23549.900000</td>\n",
       "      <td>2730.195000</td>\n",
       "    </tr>\n",
       "    <tr>\n",
       "      <th>max</th>\n",
       "      <td>583436.720000</td>\n",
       "      <td>110666.930000</td>\n",
       "    </tr>\n",
       "  </tbody>\n",
       "</table>\n",
       "</div>"
      ],
      "text/plain": [
       "       Mar Cap - Crore  Sales Qtr - Crore\n",
       "count       479.000000         459.000000\n",
       "mean      28043.857119        3807.789412\n",
       "std       59464.615831        9989.449987\n",
       "min        3017.070000           0.000000\n",
       "25%        4843.575000         534.910000\n",
       "50%        9885.050000        1137.170000\n",
       "75%       23549.900000        2730.195000\n",
       "max      583436.720000      110666.930000"
      ]
     },
     "execution_count": 6,
     "metadata": {},
     "output_type": "execute_result"
    }
   ],
   "source": [
    "df.describe()"
   ]
  },
  {
   "cell_type": "code",
   "execution_count": 7,
   "id": "0c5cae2e",
   "metadata": {},
   "outputs": [
    {
     "name": "stdout",
     "output_type": "stream",
     "text": [
      "<class 'pandas.core.frame.DataFrame'>\n",
      "RangeIndex: 488 entries, 0 to 487\n",
      "Data columns (total 3 columns):\n",
      " #   Column             Non-Null Count  Dtype  \n",
      "---  ------             --------------  -----  \n",
      " 0   Name               488 non-null    object \n",
      " 1   Mar Cap - Crore    479 non-null    float64\n",
      " 2   Sales Qtr - Crore  459 non-null    float64\n",
      "dtypes: float64(2), object(1)\n",
      "memory usage: 11.6+ KB\n"
     ]
    }
   ],
   "source": [
    "df.info()"
   ]
  },
  {
   "cell_type": "code",
   "execution_count": 8,
   "id": "4ac65e5d",
   "metadata": {},
   "outputs": [
    {
     "data": {
      "text/plain": [
       "Name                  0\n",
       "Mar Cap - Crore       9\n",
       "Sales Qtr - Crore    29\n",
       "dtype: int64"
      ]
     },
     "execution_count": 8,
     "metadata": {},
     "output_type": "execute_result"
    }
   ],
   "source": [
    "df.isnull().sum()"
   ]
  },
  {
   "cell_type": "code",
   "execution_count": 9,
   "id": "4af87e18",
   "metadata": {},
   "outputs": [
    {
     "name": "stdout",
     "output_type": "stream",
     "text": [
      "\n",
      "Missing values in 'Sales Qtr - Crore': 29\n"
     ]
    }
   ],
   "source": [
    "# Count the missing values in Sales Qtr - Crore\n",
    "missing_sales = df['Sales Qtr - Crore'].isna().sum()\n",
    "print(f\"\\nMissing values in 'Sales Qtr - Crore': {missing_sales}\")"
   ]
  },
  {
   "cell_type": "markdown",
   "id": "e373c736",
   "metadata": {},
   "source": [
    "### There are 29 missing values in the \"Sales Qtr - Crore\" column."
   ]
  },
  {
   "cell_type": "code",
   "execution_count": null,
   "id": "9bd57a25",
   "metadata": {},
   "outputs": [],
   "source": []
  },
  {
   "cell_type": "code",
   "execution_count": 10,
   "id": "9f938bd1",
   "metadata": {},
   "outputs": [
    {
     "data": {
      "text/html": [
       "<div>\n",
       "<style scoped>\n",
       "    .dataframe tbody tr th:only-of-type {\n",
       "        vertical-align: middle;\n",
       "    }\n",
       "\n",
       "    .dataframe tbody tr th {\n",
       "        vertical-align: top;\n",
       "    }\n",
       "\n",
       "    .dataframe thead th {\n",
       "        text-align: right;\n",
       "    }\n",
       "</style>\n",
       "<table border=\"1\" class=\"dataframe\">\n",
       "  <thead>\n",
       "    <tr style=\"text-align: right;\">\n",
       "      <th></th>\n",
       "      <th>Name</th>\n",
       "      <th>Mar Cap - Crore</th>\n",
       "      <th>Sales Qtr - Crore</th>\n",
       "    </tr>\n",
       "  </thead>\n",
       "  <tbody>\n",
       "    <tr>\n",
       "      <th>0</th>\n",
       "      <td>Info Edg.(India)</td>\n",
       "      <td>14845.05</td>\n",
       "      <td>NaN</td>\n",
       "    </tr>\n",
       "    <tr>\n",
       "      <th>1</th>\n",
       "      <td>Mahindra CIE</td>\n",
       "      <td>8587.04</td>\n",
       "      <td>NaN</td>\n",
       "    </tr>\n",
       "    <tr>\n",
       "      <th>2</th>\n",
       "      <td>Prism Cement</td>\n",
       "      <td>6176.23</td>\n",
       "      <td>NaN</td>\n",
       "    </tr>\n",
       "    <tr>\n",
       "      <th>3</th>\n",
       "      <td>GE Power</td>\n",
       "      <td>5497.40</td>\n",
       "      <td>NaN</td>\n",
       "    </tr>\n",
       "    <tr>\n",
       "      <th>4</th>\n",
       "      <td>MMTC</td>\n",
       "      <td>5300.00</td>\n",
       "      <td>NaN</td>\n",
       "    </tr>\n",
       "    <tr>\n",
       "      <th>5</th>\n",
       "      <td>Amber Enterp.</td>\n",
       "      <td>3529.87</td>\n",
       "      <td>NaN</td>\n",
       "    </tr>\n",
       "    <tr>\n",
       "      <th>6</th>\n",
       "      <td>Hind.Construct.</td>\n",
       "      <td>3452.57</td>\n",
       "      <td>NaN</td>\n",
       "    </tr>\n",
       "    <tr>\n",
       "      <th>372</th>\n",
       "      <td>Bharti Infra.</td>\n",
       "      <td>61776.92</td>\n",
       "      <td>NaN</td>\n",
       "    </tr>\n",
       "    <tr>\n",
       "      <th>410</th>\n",
       "      <td>Colgate-Palm.</td>\n",
       "      <td>NaN</td>\n",
       "      <td>NaN</td>\n",
       "    </tr>\n",
       "    <tr>\n",
       "      <th>411</th>\n",
       "      <td>Endurance Tech.</td>\n",
       "      <td>NaN</td>\n",
       "      <td>NaN</td>\n",
       "    </tr>\n",
       "    <tr>\n",
       "      <th>413</th>\n",
       "      <td>Max Financial</td>\n",
       "      <td>13401.76</td>\n",
       "      <td>NaN</td>\n",
       "    </tr>\n",
       "    <tr>\n",
       "      <th>415</th>\n",
       "      <td>Natl. Aluminium</td>\n",
       "      <td>NaN</td>\n",
       "      <td>NaN</td>\n",
       "    </tr>\n",
       "    <tr>\n",
       "      <th>426</th>\n",
       "      <td>Bombay Burmah</td>\n",
       "      <td>10864.53</td>\n",
       "      <td>NaN</td>\n",
       "    </tr>\n",
       "    <tr>\n",
       "      <th>436</th>\n",
       "      <td>Sundaram Clayton</td>\n",
       "      <td>10074.36</td>\n",
       "      <td>NaN</td>\n",
       "    </tr>\n",
       "    <tr>\n",
       "      <th>437</th>\n",
       "      <td>Mahanagar Gas</td>\n",
       "      <td>NaN</td>\n",
       "      <td>NaN</td>\n",
       "    </tr>\n",
       "    <tr>\n",
       "      <th>442</th>\n",
       "      <td>Bajaj Corp</td>\n",
       "      <td>NaN</td>\n",
       "      <td>NaN</td>\n",
       "    </tr>\n",
       "    <tr>\n",
       "      <th>443</th>\n",
       "      <td>ISGEC Heavy</td>\n",
       "      <td>NaN</td>\n",
       "      <td>NaN</td>\n",
       "    </tr>\n",
       "    <tr>\n",
       "      <th>445</th>\n",
       "      <td>Swan Energy</td>\n",
       "      <td>4721.49</td>\n",
       "      <td>NaN</td>\n",
       "    </tr>\n",
       "    <tr>\n",
       "      <th>449</th>\n",
       "      <td>Shoppers St.</td>\n",
       "      <td>4558.06</td>\n",
       "      <td>NaN</td>\n",
       "    </tr>\n",
       "    <tr>\n",
       "      <th>452</th>\n",
       "      <td>Stand.Chart.PLC</td>\n",
       "      <td>4487.31</td>\n",
       "      <td>NaN</td>\n",
       "    </tr>\n",
       "    <tr>\n",
       "      <th>459</th>\n",
       "      <td>BSE</td>\n",
       "      <td>NaN</td>\n",
       "      <td>NaN</td>\n",
       "    </tr>\n",
       "    <tr>\n",
       "      <th>467</th>\n",
       "      <td>Jindal Saw</td>\n",
       "      <td>4278.31</td>\n",
       "      <td>NaN</td>\n",
       "    </tr>\n",
       "    <tr>\n",
       "      <th>469</th>\n",
       "      <td>Linde India</td>\n",
       "      <td>4198.33</td>\n",
       "      <td>NaN</td>\n",
       "    </tr>\n",
       "    <tr>\n",
       "      <th>477</th>\n",
       "      <td>JP Associates</td>\n",
       "      <td>4074.37</td>\n",
       "      <td>NaN</td>\n",
       "    </tr>\n",
       "    <tr>\n",
       "      <th>479</th>\n",
       "      <td>HMT</td>\n",
       "      <td>3973.50</td>\n",
       "      <td>NaN</td>\n",
       "    </tr>\n",
       "    <tr>\n",
       "      <th>481</th>\n",
       "      <td>Gayatri Projects</td>\n",
       "      <td>3835.73</td>\n",
       "      <td>NaN</td>\n",
       "    </tr>\n",
       "    <tr>\n",
       "      <th>485</th>\n",
       "      <td>Force Motors</td>\n",
       "      <td>NaN</td>\n",
       "      <td>NaN</td>\n",
       "    </tr>\n",
       "    <tr>\n",
       "      <th>486</th>\n",
       "      <td>JP Power Ven.</td>\n",
       "      <td>3597.60</td>\n",
       "      <td>NaN</td>\n",
       "    </tr>\n",
       "    <tr>\n",
       "      <th>487</th>\n",
       "      <td>L T Foods</td>\n",
       "      <td>NaN</td>\n",
       "      <td>NaN</td>\n",
       "    </tr>\n",
       "  </tbody>\n",
       "</table>\n",
       "</div>"
      ],
      "text/plain": [
       "                 Name  Mar Cap - Crore  Sales Qtr - Crore\n",
       "0    Info Edg.(India)         14845.05                NaN\n",
       "1        Mahindra CIE          8587.04                NaN\n",
       "2        Prism Cement          6176.23                NaN\n",
       "3            GE Power          5497.40                NaN\n",
       "4                MMTC          5300.00                NaN\n",
       "5       Amber Enterp.          3529.87                NaN\n",
       "6     Hind.Construct.          3452.57                NaN\n",
       "372     Bharti Infra.         61776.92                NaN\n",
       "410     Colgate-Palm.              NaN                NaN\n",
       "411   Endurance Tech.              NaN                NaN\n",
       "413     Max Financial         13401.76                NaN\n",
       "415   Natl. Aluminium              NaN                NaN\n",
       "426     Bombay Burmah         10864.53                NaN\n",
       "436  Sundaram Clayton         10074.36                NaN\n",
       "437     Mahanagar Gas              NaN                NaN\n",
       "442        Bajaj Corp              NaN                NaN\n",
       "443       ISGEC Heavy              NaN                NaN\n",
       "445       Swan Energy          4721.49                NaN\n",
       "449      Shoppers St.          4558.06                NaN\n",
       "452   Stand.Chart.PLC          4487.31                NaN\n",
       "459               BSE              NaN                NaN\n",
       "467        Jindal Saw          4278.31                NaN\n",
       "469       Linde India          4198.33                NaN\n",
       "477     JP Associates          4074.37                NaN\n",
       "479               HMT          3973.50                NaN\n",
       "481  Gayatri Projects          3835.73                NaN\n",
       "485      Force Motors              NaN                NaN\n",
       "486     JP Power Ven.          3597.60                NaN\n",
       "487         L T Foods              NaN                NaN"
      ]
     },
     "execution_count": 10,
     "metadata": {},
     "output_type": "execute_result"
    }
   ],
   "source": [
    "df[df['Sales Qtr - Crore'].isna()]"
   ]
  },
  {
   "cell_type": "code",
   "execution_count": 11,
   "id": "99035d06",
   "metadata": {},
   "outputs": [
    {
     "data": {
      "text/html": [
       "<div>\n",
       "<style scoped>\n",
       "    .dataframe tbody tr th:only-of-type {\n",
       "        vertical-align: middle;\n",
       "    }\n",
       "\n",
       "    .dataframe tbody tr th {\n",
       "        vertical-align: top;\n",
       "    }\n",
       "\n",
       "    .dataframe thead th {\n",
       "        text-align: right;\n",
       "    }\n",
       "</style>\n",
       "<table border=\"1\" class=\"dataframe\">\n",
       "  <thead>\n",
       "    <tr style=\"text-align: right;\">\n",
       "      <th></th>\n",
       "      <th>Name</th>\n",
       "      <th>Mar Cap - Crore</th>\n",
       "      <th>Sales Qtr - Crore</th>\n",
       "    </tr>\n",
       "  </thead>\n",
       "  <tbody>\n",
       "    <tr>\n",
       "      <th>410</th>\n",
       "      <td>Colgate-Palm.</td>\n",
       "      <td>NaN</td>\n",
       "      <td>NaN</td>\n",
       "    </tr>\n",
       "    <tr>\n",
       "      <th>411</th>\n",
       "      <td>Endurance Tech.</td>\n",
       "      <td>NaN</td>\n",
       "      <td>NaN</td>\n",
       "    </tr>\n",
       "    <tr>\n",
       "      <th>415</th>\n",
       "      <td>Natl. Aluminium</td>\n",
       "      <td>NaN</td>\n",
       "      <td>NaN</td>\n",
       "    </tr>\n",
       "    <tr>\n",
       "      <th>437</th>\n",
       "      <td>Mahanagar Gas</td>\n",
       "      <td>NaN</td>\n",
       "      <td>NaN</td>\n",
       "    </tr>\n",
       "    <tr>\n",
       "      <th>442</th>\n",
       "      <td>Bajaj Corp</td>\n",
       "      <td>NaN</td>\n",
       "      <td>NaN</td>\n",
       "    </tr>\n",
       "    <tr>\n",
       "      <th>443</th>\n",
       "      <td>ISGEC Heavy</td>\n",
       "      <td>NaN</td>\n",
       "      <td>NaN</td>\n",
       "    </tr>\n",
       "    <tr>\n",
       "      <th>459</th>\n",
       "      <td>BSE</td>\n",
       "      <td>NaN</td>\n",
       "      <td>NaN</td>\n",
       "    </tr>\n",
       "    <tr>\n",
       "      <th>485</th>\n",
       "      <td>Force Motors</td>\n",
       "      <td>NaN</td>\n",
       "      <td>NaN</td>\n",
       "    </tr>\n",
       "    <tr>\n",
       "      <th>487</th>\n",
       "      <td>L T Foods</td>\n",
       "      <td>NaN</td>\n",
       "      <td>NaN</td>\n",
       "    </tr>\n",
       "  </tbody>\n",
       "</table>\n",
       "</div>"
      ],
      "text/plain": [
       "                Name  Mar Cap - Crore  Sales Qtr - Crore\n",
       "410    Colgate-Palm.              NaN                NaN\n",
       "411  Endurance Tech.              NaN                NaN\n",
       "415  Natl. Aluminium              NaN                NaN\n",
       "437    Mahanagar Gas              NaN                NaN\n",
       "442       Bajaj Corp              NaN                NaN\n",
       "443      ISGEC Heavy              NaN                NaN\n",
       "459              BSE              NaN                NaN\n",
       "485     Force Motors              NaN                NaN\n",
       "487        L T Foods              NaN                NaN"
      ]
     },
     "execution_count": 11,
     "metadata": {},
     "output_type": "execute_result"
    }
   ],
   "source": [
    "df[df['Mar Cap - Crore'].isna()]"
   ]
  },
  {
   "cell_type": "code",
   "execution_count": 12,
   "id": "c5a5caa4",
   "metadata": {},
   "outputs": [],
   "source": [
    "df.dropna(inplace=True)"
   ]
  },
  {
   "cell_type": "code",
   "execution_count": 13,
   "id": "e0c784e1",
   "metadata": {},
   "outputs": [
    {
     "data": {
      "text/html": [
       "<div>\n",
       "<style scoped>\n",
       "    .dataframe tbody tr th:only-of-type {\n",
       "        vertical-align: middle;\n",
       "    }\n",
       "\n",
       "    .dataframe tbody tr th {\n",
       "        vertical-align: top;\n",
       "    }\n",
       "\n",
       "    .dataframe thead th {\n",
       "        text-align: right;\n",
       "    }\n",
       "</style>\n",
       "<table border=\"1\" class=\"dataframe\">\n",
       "  <thead>\n",
       "    <tr style=\"text-align: right;\">\n",
       "      <th></th>\n",
       "      <th>Name</th>\n",
       "      <th>Mar Cap - Crore</th>\n",
       "      <th>Sales Qtr - Crore</th>\n",
       "    </tr>\n",
       "  </thead>\n",
       "  <tbody>\n",
       "    <tr>\n",
       "      <th>7</th>\n",
       "      <td>I O C L</td>\n",
       "      <td>178017.48</td>\n",
       "      <td>110666.93</td>\n",
       "    </tr>\n",
       "    <tr>\n",
       "      <th>8</th>\n",
       "      <td>Reliance Inds.</td>\n",
       "      <td>583436.72</td>\n",
       "      <td>99810.00</td>\n",
       "    </tr>\n",
       "    <tr>\n",
       "      <th>9</th>\n",
       "      <td>Tata Motors</td>\n",
       "      <td>117071.87</td>\n",
       "      <td>74156.07</td>\n",
       "    </tr>\n",
       "    <tr>\n",
       "      <th>10</th>\n",
       "      <td>B P C L</td>\n",
       "      <td>98278.00</td>\n",
       "      <td>60616.36</td>\n",
       "    </tr>\n",
       "    <tr>\n",
       "      <th>11</th>\n",
       "      <td>H P C L</td>\n",
       "      <td>58034.78</td>\n",
       "      <td>57474.25</td>\n",
       "    </tr>\n",
       "  </tbody>\n",
       "</table>\n",
       "</div>"
      ],
      "text/plain": [
       "              Name  Mar Cap - Crore  Sales Qtr - Crore\n",
       "7          I O C L        178017.48          110666.93\n",
       "8   Reliance Inds.        583436.72           99810.00\n",
       "9      Tata Motors        117071.87           74156.07\n",
       "10         B P C L         98278.00           60616.36\n",
       "11         H P C L         58034.78           57474.25"
      ]
     },
     "execution_count": 13,
     "metadata": {},
     "output_type": "execute_result"
    }
   ],
   "source": [
    "df.head()"
   ]
  },
  {
   "cell_type": "code",
   "execution_count": 14,
   "id": "db940e1d",
   "metadata": {},
   "outputs": [],
   "source": [
    "df = df.reset_index(drop=True)"
   ]
  },
  {
   "cell_type": "code",
   "execution_count": 15,
   "id": "521bef30",
   "metadata": {},
   "outputs": [
    {
     "data": {
      "text/html": [
       "<div>\n",
       "<style scoped>\n",
       "    .dataframe tbody tr th:only-of-type {\n",
       "        vertical-align: middle;\n",
       "    }\n",
       "\n",
       "    .dataframe tbody tr th {\n",
       "        vertical-align: top;\n",
       "    }\n",
       "\n",
       "    .dataframe thead th {\n",
       "        text-align: right;\n",
       "    }\n",
       "</style>\n",
       "<table border=\"1\" class=\"dataframe\">\n",
       "  <thead>\n",
       "    <tr style=\"text-align: right;\">\n",
       "      <th></th>\n",
       "      <th>Name</th>\n",
       "      <th>Mar Cap - Crore</th>\n",
       "      <th>Sales Qtr - Crore</th>\n",
       "    </tr>\n",
       "  </thead>\n",
       "  <tbody>\n",
       "    <tr>\n",
       "      <th>0</th>\n",
       "      <td>I O C L</td>\n",
       "      <td>178017.48</td>\n",
       "      <td>110666.93</td>\n",
       "    </tr>\n",
       "    <tr>\n",
       "      <th>1</th>\n",
       "      <td>Reliance Inds.</td>\n",
       "      <td>583436.72</td>\n",
       "      <td>99810.00</td>\n",
       "    </tr>\n",
       "    <tr>\n",
       "      <th>2</th>\n",
       "      <td>Tata Motors</td>\n",
       "      <td>117071.87</td>\n",
       "      <td>74156.07</td>\n",
       "    </tr>\n",
       "    <tr>\n",
       "      <th>3</th>\n",
       "      <td>B P C L</td>\n",
       "      <td>98278.00</td>\n",
       "      <td>60616.36</td>\n",
       "    </tr>\n",
       "    <tr>\n",
       "      <th>4</th>\n",
       "      <td>H P C L</td>\n",
       "      <td>58034.78</td>\n",
       "      <td>57474.25</td>\n",
       "    </tr>\n",
       "  </tbody>\n",
       "</table>\n",
       "</div>"
      ],
      "text/plain": [
       "             Name  Mar Cap - Crore  Sales Qtr - Crore\n",
       "0         I O C L        178017.48          110666.93\n",
       "1  Reliance Inds.        583436.72           99810.00\n",
       "2     Tata Motors        117071.87           74156.07\n",
       "3         B P C L         98278.00           60616.36\n",
       "4         H P C L         58034.78           57474.25"
      ]
     },
     "execution_count": 15,
     "metadata": {},
     "output_type": "execute_result"
    }
   ],
   "source": [
    "df.head()"
   ]
  },
  {
   "cell_type": "code",
   "execution_count": 16,
   "id": "6e2f78a6",
   "metadata": {},
   "outputs": [
    {
     "name": "stdout",
     "output_type": "stream",
     "text": [
      "<class 'pandas.core.frame.DataFrame'>\n",
      "RangeIndex: 459 entries, 0 to 458\n",
      "Data columns (total 3 columns):\n",
      " #   Column             Non-Null Count  Dtype  \n",
      "---  ------             --------------  -----  \n",
      " 0   Name               459 non-null    object \n",
      " 1   Mar Cap - Crore    459 non-null    float64\n",
      " 2   Sales Qtr - Crore  459 non-null    float64\n",
      "dtypes: float64(2), object(1)\n",
      "memory usage: 10.9+ KB\n"
     ]
    }
   ],
   "source": [
    "df.info()"
   ]
  },
  {
   "cell_type": "code",
   "execution_count": 17,
   "id": "ac1f3d19",
   "metadata": {},
   "outputs": [
    {
     "data": {
      "text/plain": [
       "459"
      ]
     },
     "execution_count": 17,
     "metadata": {},
     "output_type": "execute_result"
    }
   ],
   "source": [
    "df['Name'].nunique()"
   ]
  },
  {
   "cell_type": "code",
   "execution_count": 18,
   "id": "cfc9fe98",
   "metadata": {},
   "outputs": [],
   "source": [
    "# df['Name'].unique()"
   ]
  },
  {
   "cell_type": "code",
   "execution_count": 19,
   "id": "77bc4d88",
   "metadata": {},
   "outputs": [
    {
     "data": {
      "text/plain": [
       "Index(['Name', 'Mar Cap - Crore', 'Sales Qtr - Crore'], dtype='object')"
      ]
     },
     "execution_count": 19,
     "metadata": {},
     "output_type": "execute_result"
    }
   ],
   "source": [
    "df.columns"
   ]
  },
  {
   "cell_type": "code",
   "execution_count": 20,
   "id": "f59a2c8b",
   "metadata": {},
   "outputs": [
    {
     "data": {
      "text/html": [
       "<div>\n",
       "<style scoped>\n",
       "    .dataframe tbody tr th:only-of-type {\n",
       "        vertical-align: middle;\n",
       "    }\n",
       "\n",
       "    .dataframe tbody tr th {\n",
       "        vertical-align: top;\n",
       "    }\n",
       "\n",
       "    .dataframe thead th {\n",
       "        text-align: right;\n",
       "    }\n",
       "</style>\n",
       "<table border=\"1\" class=\"dataframe\">\n",
       "  <thead>\n",
       "    <tr style=\"text-align: right;\">\n",
       "      <th></th>\n",
       "      <th>Name</th>\n",
       "      <th>Mar Cap - Crore</th>\n",
       "      <th>Sales Qtr - Crore</th>\n",
       "    </tr>\n",
       "  </thead>\n",
       "  <tbody>\n",
       "    <tr>\n",
       "      <th>0</th>\n",
       "      <td>I O C L</td>\n",
       "      <td>178017.48</td>\n",
       "      <td>110666.93</td>\n",
       "    </tr>\n",
       "    <tr>\n",
       "      <th>1</th>\n",
       "      <td>Reliance Inds.</td>\n",
       "      <td>583436.72</td>\n",
       "      <td>99810.00</td>\n",
       "    </tr>\n",
       "    <tr>\n",
       "      <th>2</th>\n",
       "      <td>Tata Motors</td>\n",
       "      <td>117071.87</td>\n",
       "      <td>74156.07</td>\n",
       "    </tr>\n",
       "    <tr>\n",
       "      <th>3</th>\n",
       "      <td>B P C L</td>\n",
       "      <td>98278.00</td>\n",
       "      <td>60616.36</td>\n",
       "    </tr>\n",
       "    <tr>\n",
       "      <th>4</th>\n",
       "      <td>H P C L</td>\n",
       "      <td>58034.78</td>\n",
       "      <td>57474.25</td>\n",
       "    </tr>\n",
       "  </tbody>\n",
       "</table>\n",
       "</div>"
      ],
      "text/plain": [
       "             Name  Mar Cap - Crore  Sales Qtr - Crore\n",
       "0         I O C L        178017.48          110666.93\n",
       "1  Reliance Inds.        583436.72           99810.00\n",
       "2     Tata Motors        117071.87           74156.07\n",
       "3         B P C L         98278.00           60616.36\n",
       "4         H P C L         58034.78           57474.25"
      ]
     },
     "execution_count": 20,
     "metadata": {},
     "output_type": "execute_result"
    }
   ],
   "source": [
    "df.head()"
   ]
  },
  {
   "cell_type": "code",
   "execution_count": null,
   "id": "165446e5",
   "metadata": {},
   "outputs": [],
   "source": [
    "df.to_csv(r\"E:\\DATA_SCIENCE\\Desktop\\UNIFIED\\Data Science Projects\\Financial Analytics data.csv\")"
   ]
  },
  {
   "cell_type": "markdown",
   "id": "93f242eb",
   "metadata": {},
   "source": [
    "# Univariat Analysis"
   ]
  },
  {
   "cell_type": "code",
   "execution_count": 21,
   "id": "b98f3593",
   "metadata": {},
   "outputs": [
    {
     "data": {
      "text/plain": [
       "583436.72"
      ]
     },
     "execution_count": 21,
     "metadata": {},
     "output_type": "execute_result"
    }
   ],
   "source": [
    "df['Mar Cap - Crore'].max()"
   ]
  },
  {
   "cell_type": "code",
   "execution_count": 22,
   "id": "ce52b94d",
   "metadata": {},
   "outputs": [
    {
     "data": {
      "text/plain": [
       "3017.07"
      ]
     },
     "execution_count": 22,
     "metadata": {},
     "output_type": "execute_result"
    }
   ],
   "source": [
    "df['Mar Cap - Crore'].min()"
   ]
  },
  {
   "cell_type": "code",
   "execution_count": 23,
   "id": "101035c5",
   "metadata": {},
   "outputs": [
    {
     "data": {
      "text/plain": [
       "count       459.000000\n",
       "mean      28870.974139\n",
       "std       60557.081792\n",
       "min        3017.070000\n",
       "25%        4942.815000\n",
       "50%       10442.090000\n",
       "75%       24707.320000\n",
       "max      583436.720000\n",
       "Name: Mar Cap - Crore, dtype: float64"
      ]
     },
     "execution_count": 23,
     "metadata": {},
     "output_type": "execute_result"
    }
   ],
   "source": [
    "df['Mar Cap - Crore'].describe()"
   ]
  },
  {
   "cell_type": "code",
   "execution_count": 24,
   "id": "561e1ca1",
   "metadata": {},
   "outputs": [
    {
     "data": {
      "text/html": [
       "<div>\n",
       "<style scoped>\n",
       "    .dataframe tbody tr th:only-of-type {\n",
       "        vertical-align: middle;\n",
       "    }\n",
       "\n",
       "    .dataframe tbody tr th {\n",
       "        vertical-align: top;\n",
       "    }\n",
       "\n",
       "    .dataframe thead th {\n",
       "        text-align: right;\n",
       "    }\n",
       "</style>\n",
       "<table border=\"1\" class=\"dataframe\">\n",
       "  <thead>\n",
       "    <tr style=\"text-align: right;\">\n",
       "      <th></th>\n",
       "      <th>Name</th>\n",
       "      <th>Mar Cap - Crore</th>\n",
       "      <th>Sales Qtr - Crore</th>\n",
       "    </tr>\n",
       "  </thead>\n",
       "  <tbody>\n",
       "    <tr>\n",
       "      <th>91</th>\n",
       "      <td>Natl.Fertilizer</td>\n",
       "      <td>3017.07</td>\n",
       "      <td>2840.75</td>\n",
       "    </tr>\n",
       "  </tbody>\n",
       "</table>\n",
       "</div>"
      ],
      "text/plain": [
       "               Name  Mar Cap - Crore  Sales Qtr - Crore\n",
       "91  Natl.Fertilizer          3017.07            2840.75"
      ]
     },
     "execution_count": 24,
     "metadata": {},
     "output_type": "execute_result"
    }
   ],
   "source": [
    "df[df['Mar Cap - Crore'] == df['Mar Cap - Crore'].min()]"
   ]
  },
  {
   "cell_type": "code",
   "execution_count": 25,
   "id": "35249a35",
   "metadata": {},
   "outputs": [
    {
     "data": {
      "text/html": [
       "<div>\n",
       "<style scoped>\n",
       "    .dataframe tbody tr th:only-of-type {\n",
       "        vertical-align: middle;\n",
       "    }\n",
       "\n",
       "    .dataframe tbody tr th {\n",
       "        vertical-align: top;\n",
       "    }\n",
       "\n",
       "    .dataframe thead th {\n",
       "        text-align: right;\n",
       "    }\n",
       "</style>\n",
       "<table border=\"1\" class=\"dataframe\">\n",
       "  <thead>\n",
       "    <tr style=\"text-align: right;\">\n",
       "      <th></th>\n",
       "      <th>Name</th>\n",
       "      <th>Mar Cap - Crore</th>\n",
       "      <th>Sales Qtr - Crore</th>\n",
       "    </tr>\n",
       "  </thead>\n",
       "  <tbody>\n",
       "    <tr>\n",
       "      <th>1</th>\n",
       "      <td>Reliance Inds.</td>\n",
       "      <td>583436.72</td>\n",
       "      <td>99810.0</td>\n",
       "    </tr>\n",
       "  </tbody>\n",
       "</table>\n",
       "</div>"
      ],
      "text/plain": [
       "             Name  Mar Cap - Crore  Sales Qtr - Crore\n",
       "1  Reliance Inds.        583436.72            99810.0"
      ]
     },
     "execution_count": 25,
     "metadata": {},
     "output_type": "execute_result"
    }
   ],
   "source": [
    "df[df['Mar Cap - Crore'] == df['Mar Cap - Crore'].max()]"
   ]
  },
  {
   "cell_type": "markdown",
   "id": "c9d59d9a",
   "metadata": {},
   "source": [
    "#### - The minimum market capitalization is ₹3,017 crore for the company National Fertilizer.\n",
    "#### - The maximum market capitalization is ₹5,83,436 crore for the company Reliance Industries.\n",
    "#### - 50% of the companies have a market capitalization of ₹10,442 crore."
   ]
  },
  {
   "cell_type": "code",
   "execution_count": 26,
   "id": "7167dd53",
   "metadata": {},
   "outputs": [
    {
     "data": {
      "text/plain": [
       "count       459.000000\n",
       "mean       3807.789412\n",
       "std        9989.449987\n",
       "min           0.000000\n",
       "25%         534.910000\n",
       "50%        1137.170000\n",
       "75%        2730.195000\n",
       "max      110666.930000\n",
       "Name: Sales Qtr - Crore, dtype: float64"
      ]
     },
     "execution_count": 26,
     "metadata": {},
     "output_type": "execute_result"
    }
   ],
   "source": [
    "df['Sales Qtr - Crore'].describe()"
   ]
  },
  {
   "cell_type": "code",
   "execution_count": 27,
   "id": "c9229070",
   "metadata": {},
   "outputs": [
    {
     "data": {
      "text/html": [
       "<div>\n",
       "<style scoped>\n",
       "    .dataframe tbody tr th:only-of-type {\n",
       "        vertical-align: middle;\n",
       "    }\n",
       "\n",
       "    .dataframe tbody tr th {\n",
       "        vertical-align: top;\n",
       "    }\n",
       "\n",
       "    .dataframe thead th {\n",
       "        text-align: right;\n",
       "    }\n",
       "</style>\n",
       "<table border=\"1\" class=\"dataframe\">\n",
       "  <thead>\n",
       "    <tr style=\"text-align: right;\">\n",
       "      <th></th>\n",
       "      <th>Name</th>\n",
       "      <th>Mar Cap - Crore</th>\n",
       "      <th>Sales Qtr - Crore</th>\n",
       "    </tr>\n",
       "  </thead>\n",
       "  <tbody>\n",
       "    <tr>\n",
       "      <th>443</th>\n",
       "      <td>Ujjivan Fin.Ser.</td>\n",
       "      <td>4293.42</td>\n",
       "      <td>0.0</td>\n",
       "    </tr>\n",
       "  </tbody>\n",
       "</table>\n",
       "</div>"
      ],
      "text/plain": [
       "                 Name  Mar Cap - Crore  Sales Qtr - Crore\n",
       "443  Ujjivan Fin.Ser.          4293.42                0.0"
      ]
     },
     "execution_count": 27,
     "metadata": {},
     "output_type": "execute_result"
    }
   ],
   "source": [
    "df[df['Sales Qtr - Crore'] == df['Sales Qtr - Crore'].min()] # zero might be an outlier"
   ]
  },
  {
   "cell_type": "code",
   "execution_count": 28,
   "id": "ff75aef4",
   "metadata": {},
   "outputs": [
    {
     "data": {
      "text/html": [
       "<div>\n",
       "<style scoped>\n",
       "    .dataframe tbody tr th:only-of-type {\n",
       "        vertical-align: middle;\n",
       "    }\n",
       "\n",
       "    .dataframe tbody tr th {\n",
       "        vertical-align: top;\n",
       "    }\n",
       "\n",
       "    .dataframe thead th {\n",
       "        text-align: right;\n",
       "    }\n",
       "</style>\n",
       "<table border=\"1\" class=\"dataframe\">\n",
       "  <thead>\n",
       "    <tr style=\"text-align: right;\">\n",
       "      <th></th>\n",
       "      <th>Name</th>\n",
       "      <th>Mar Cap - Crore</th>\n",
       "      <th>Sales Qtr - Crore</th>\n",
       "    </tr>\n",
       "  </thead>\n",
       "  <tbody>\n",
       "    <tr>\n",
       "      <th>0</th>\n",
       "      <td>I O C L</td>\n",
       "      <td>178017.48</td>\n",
       "      <td>110666.93</td>\n",
       "    </tr>\n",
       "  </tbody>\n",
       "</table>\n",
       "</div>"
      ],
      "text/plain": [
       "      Name  Mar Cap - Crore  Sales Qtr - Crore\n",
       "0  I O C L        178017.48          110666.93"
      ]
     },
     "execution_count": 28,
     "metadata": {},
     "output_type": "execute_result"
    }
   ],
   "source": [
    "df[df['Sales Qtr - Crore'] == df['Sales Qtr - Crore'].max()]"
   ]
  },
  {
   "cell_type": "markdown",
   "id": "409646b1",
   "metadata": {},
   "source": [
    "#### - The minimum quarterly sales is ₹0.0 crore for the company Ujjivan Fin.Ser.\n",
    "#### - The maximum quarterly sales is ₹1,10,666 crore for the company I O C L.\n",
    "#### - 50% of the companies have a quarterly sales of ₹1,137 crore."
   ]
  },
  {
   "cell_type": "code",
   "execution_count": null,
   "id": "a9308219",
   "metadata": {},
   "outputs": [],
   "source": []
  },
  {
   "cell_type": "code",
   "execution_count": 33,
   "id": "a92eb720",
   "metadata": {},
   "outputs": [],
   "source": [
    "dt = df.iloc[0:,1:]"
   ]
  },
  {
   "cell_type": "code",
   "execution_count": 34,
   "id": "cb57f55b",
   "metadata": {},
   "outputs": [
    {
     "data": {
      "text/plain": [
       "{'whiskers': [<matplotlib.lines.Line2D at 0x2a1225b70d0>,\n",
       "  <matplotlib.lines.Line2D at 0x2a1225b7d90>,\n",
       "  <matplotlib.lines.Line2D at 0x2a1225d0250>,\n",
       "  <matplotlib.lines.Line2D at 0x2a1225d0d10>],\n",
       " 'caps': [<matplotlib.lines.Line2D at 0x2a1225c8990>,\n",
       "  <matplotlib.lines.Line2D at 0x2a1225c9550>,\n",
       "  <matplotlib.lines.Line2D at 0x2a1225d1890>,\n",
       "  <matplotlib.lines.Line2D at 0x2a1225d2390>],\n",
       " 'boxes': [<matplotlib.lines.Line2D at 0x2a1225b63d0>,\n",
       "  <matplotlib.lines.Line2D at 0x2a1225cb710>],\n",
       " 'medians': [<matplotlib.lines.Line2D at 0x2a1225ca090>,\n",
       "  <matplotlib.lines.Line2D at 0x2a1225d2f50>],\n",
       " 'fliers': [<matplotlib.lines.Line2D at 0x2a1225cab90>,\n",
       "  <matplotlib.lines.Line2D at 0x2a1223ad350>],\n",
       " 'means': []}"
      ]
     },
     "execution_count": 34,
     "metadata": {},
     "output_type": "execute_result"
    },
    {
     "data": {
      "image/png": "[encoded data removed]",
      "text/plain": [
       "<Figure size 640x480 with 1 Axes>"
      ]
     },
     "metadata": {},
     "output_type": "display_data"
    }
   ],
   "source": [
    "plt.boxplot(dt)"
   ]
  },
  {
   "cell_type": "code",
   "execution_count": 35,
   "id": "dbe21c0c",
   "metadata": {},
   "outputs": [
    {
     "data": {
      "text/html": [
       "<div>\n",
       "<style scoped>\n",
       "    .dataframe tbody tr th:only-of-type {\n",
       "        vertical-align: middle;\n",
       "    }\n",
       "\n",
       "    .dataframe tbody tr th {\n",
       "        vertical-align: top;\n",
       "    }\n",
       "\n",
       "    .dataframe thead th {\n",
       "        text-align: right;\n",
       "    }\n",
       "</style>\n",
       "<table border=\"1\" class=\"dataframe\">\n",
       "  <thead>\n",
       "    <tr style=\"text-align: right;\">\n",
       "      <th></th>\n",
       "      <th>Name</th>\n",
       "      <th>Mar Cap - Crore</th>\n",
       "      <th>Sales Qtr - Crore</th>\n",
       "    </tr>\n",
       "  </thead>\n",
       "  <tbody>\n",
       "    <tr>\n",
       "      <th>1</th>\n",
       "      <td>Reliance Inds.</td>\n",
       "      <td>583436.72</td>\n",
       "      <td>99810.00</td>\n",
       "    </tr>\n",
       "    <tr>\n",
       "      <th>8</th>\n",
       "      <td>TCS</td>\n",
       "      <td>563709.84</td>\n",
       "      <td>30904.00</td>\n",
       "    </tr>\n",
       "    <tr>\n",
       "      <th>14</th>\n",
       "      <td>HDFC Bank</td>\n",
       "      <td>482953.59</td>\n",
       "      <td>20581.27</td>\n",
       "    </tr>\n",
       "    <tr>\n",
       "      <th>37</th>\n",
       "      <td>ITC</td>\n",
       "      <td>320985.27</td>\n",
       "      <td>9772.02</td>\n",
       "    </tr>\n",
       "  </tbody>\n",
       "</table>\n",
       "</div>"
      ],
      "text/plain": [
       "              Name  Mar Cap - Crore  Sales Qtr - Crore\n",
       "1   Reliance Inds.        583436.72           99810.00\n",
       "8              TCS        563709.84           30904.00\n",
       "14       HDFC Bank        482953.59           20581.27\n",
       "37             ITC        320985.27            9772.02"
      ]
     },
     "execution_count": 35,
     "metadata": {},
     "output_type": "execute_result"
    }
   ],
   "source": [
    "df[df['Mar Cap - Crore'] >= 300000]"
   ]
  },
  {
   "cell_type": "code",
   "execution_count": 36,
   "id": "901cdfa7",
   "metadata": {},
   "outputs": [
    {
     "data": {
      "text/html": [
       "<div>\n",
       "<style scoped>\n",
       "    .dataframe tbody tr th:only-of-type {\n",
       "        vertical-align: middle;\n",
       "    }\n",
       "\n",
       "    .dataframe tbody tr th {\n",
       "        vertical-align: top;\n",
       "    }\n",
       "\n",
       "    .dataframe thead th {\n",
       "        text-align: right;\n",
       "    }\n",
       "</style>\n",
       "<table border=\"1\" class=\"dataframe\">\n",
       "  <thead>\n",
       "    <tr style=\"text-align: right;\">\n",
       "      <th></th>\n",
       "      <th>Name</th>\n",
       "      <th>Mar Cap - Crore</th>\n",
       "      <th>Sales Qtr - Crore</th>\n",
       "    </tr>\n",
       "  </thead>\n",
       "  <tbody>\n",
       "    <tr>\n",
       "      <th>0</th>\n",
       "      <td>I O C L</td>\n",
       "      <td>178017.48</td>\n",
       "      <td>110666.93</td>\n",
       "    </tr>\n",
       "    <tr>\n",
       "      <th>2</th>\n",
       "      <td>Tata Motors</td>\n",
       "      <td>117071.87</td>\n",
       "      <td>74156.07</td>\n",
       "    </tr>\n",
       "    <tr>\n",
       "      <th>3</th>\n",
       "      <td>B P C L</td>\n",
       "      <td>98278.00</td>\n",
       "      <td>60616.36</td>\n",
       "    </tr>\n",
       "    <tr>\n",
       "      <th>4</th>\n",
       "      <td>H P C L</td>\n",
       "      <td>58034.78</td>\n",
       "      <td>57474.25</td>\n",
       "    </tr>\n",
       "    <tr>\n",
       "      <th>5</th>\n",
       "      <td>St Bk of India</td>\n",
       "      <td>232763.33</td>\n",
       "      <td>57014.08</td>\n",
       "    </tr>\n",
       "    <tr>\n",
       "      <th>...</th>\n",
       "      <td>...</td>\n",
       "      <td>...</td>\n",
       "      <td>...</td>\n",
       "    </tr>\n",
       "    <tr>\n",
       "      <th>454</th>\n",
       "      <td>Minda Corp</td>\n",
       "      <td>3974.83</td>\n",
       "      <td>636.20</td>\n",
       "    </tr>\n",
       "    <tr>\n",
       "      <th>455</th>\n",
       "      <td>Multi Comm. Exc.</td>\n",
       "      <td>3847.19</td>\n",
       "      <td>60.97</td>\n",
       "    </tr>\n",
       "    <tr>\n",
       "      <th>456</th>\n",
       "      <td>ICRA</td>\n",
       "      <td>3809.00</td>\n",
       "      <td>82.87</td>\n",
       "    </tr>\n",
       "    <tr>\n",
       "      <th>457</th>\n",
       "      <td>Shriram Pistons</td>\n",
       "      <td>3804.58</td>\n",
       "      <td>430.80</td>\n",
       "    </tr>\n",
       "    <tr>\n",
       "      <th>458</th>\n",
       "      <td>IFCI</td>\n",
       "      <td>3789.45</td>\n",
       "      <td>626.80</td>\n",
       "    </tr>\n",
       "  </tbody>\n",
       "</table>\n",
       "<p>455 rows × 3 columns</p>\n",
       "</div>"
      ],
      "text/plain": [
       "                 Name  Mar Cap - Crore  Sales Qtr - Crore\n",
       "0             I O C L        178017.48          110666.93\n",
       "2         Tata Motors        117071.87           74156.07\n",
       "3             B P C L         98278.00           60616.36\n",
       "4             H P C L         58034.78           57474.25\n",
       "5      St Bk of India        232763.33           57014.08\n",
       "..                ...              ...                ...\n",
       "454        Minda Corp          3974.83             636.20\n",
       "455  Multi Comm. Exc.          3847.19              60.97\n",
       "456              ICRA          3809.00              82.87\n",
       "457   Shriram Pistons          3804.58             430.80\n",
       "458              IFCI          3789.45             626.80\n",
       "\n",
       "[455 rows x 3 columns]"
      ]
     },
     "execution_count": 36,
     "metadata": {},
     "output_type": "execute_result"
    }
   ],
   "source": [
    "dt1 = df[df['Mar Cap - Crore'] <= 300000]\n",
    "dt1"
   ]
  },
  {
   "cell_type": "code",
   "execution_count": 39,
   "id": "78cd3b1c",
   "metadata": {},
   "outputs": [
    {
     "name": "stderr",
     "output_type": "stream",
     "text": [
      "C:\\ProgramData\\anaconda3\\Lib\\site-packages\\seaborn\\_oldcore.py:1498: FutureWarning: is_categorical_dtype is deprecated and will be removed in a future version. Use isinstance(dtype, CategoricalDtype) instead\n",
      "  if pd.api.types.is_categorical_dtype(vector):\n",
      "C:\\ProgramData\\anaconda3\\Lib\\site-packages\\seaborn\\_oldcore.py:1119: FutureWarning: use_inf_as_na option is deprecated and will be removed in a future version. Convert inf values to NaN before operating instead.\n",
      "  with pd.option_context('mode.use_inf_as_na', True):\n"
     ]
    },
    {
     "data": {
      "image/png": "[encoded data removed]",
      "text/plain": [
       "<Figure size 1000x600 with 1 Axes>"
      ]
     },
     "metadata": {},
     "output_type": "display_data"
    }
   ],
   "source": [
    "plt.figure(figsize=(10, 6))\n",
    "sns.histplot(dt1['Mar Cap - Crore'], kde=True, bins=30)\n",
    "plt.title('Distribution of Market Capitalization')\n",
    "plt.xlabel('Market Cap (Crore)')\n",
    "plt.ylabel('Frequency')\n",
    "plt.show()"
   ]
  },
  {
   "cell_type": "code",
   "execution_count": 65,
   "id": "39642005",
   "metadata": {},
   "outputs": [
    {
     "data": {
      "text/html": [
       "<div>\n",
       "<style scoped>\n",
       "    .dataframe tbody tr th:only-of-type {\n",
       "        vertical-align: middle;\n",
       "    }\n",
       "\n",
       "    .dataframe tbody tr th {\n",
       "        vertical-align: top;\n",
       "    }\n",
       "\n",
       "    .dataframe thead th {\n",
       "        text-align: right;\n",
       "    }\n",
       "</style>\n",
       "<table border=\"1\" class=\"dataframe\">\n",
       "  <thead>\n",
       "    <tr style=\"text-align: right;\">\n",
       "      <th></th>\n",
       "      <th>Mar Cap - Crore</th>\n",
       "      <th>Sales Qtr - Crore</th>\n",
       "    </tr>\n",
       "  </thead>\n",
       "  <tbody>\n",
       "    <tr>\n",
       "      <th>count</th>\n",
       "      <td>459.000000</td>\n",
       "      <td>459.000000</td>\n",
       "    </tr>\n",
       "    <tr>\n",
       "      <th>mean</th>\n",
       "      <td>28870.974139</td>\n",
       "      <td>3807.789412</td>\n",
       "    </tr>\n",
       "    <tr>\n",
       "      <th>std</th>\n",
       "      <td>60557.081792</td>\n",
       "      <td>9989.449987</td>\n",
       "    </tr>\n",
       "    <tr>\n",
       "      <th>min</th>\n",
       "      <td>3017.070000</td>\n",
       "      <td>0.000000</td>\n",
       "    </tr>\n",
       "    <tr>\n",
       "      <th>25%</th>\n",
       "      <td>4942.815000</td>\n",
       "      <td>534.910000</td>\n",
       "    </tr>\n",
       "    <tr>\n",
       "      <th>50%</th>\n",
       "      <td>10442.090000</td>\n",
       "      <td>1137.170000</td>\n",
       "    </tr>\n",
       "    <tr>\n",
       "      <th>75%</th>\n",
       "      <td>24707.320000</td>\n",
       "      <td>2730.195000</td>\n",
       "    </tr>\n",
       "    <tr>\n",
       "      <th>max</th>\n",
       "      <td>583436.720000</td>\n",
       "      <td>110666.930000</td>\n",
       "    </tr>\n",
       "  </tbody>\n",
       "</table>\n",
       "</div>"
      ],
      "text/plain": [
       "       Mar Cap - Crore  Sales Qtr - Crore\n",
       "count       459.000000         459.000000\n",
       "mean      28870.974139        3807.789412\n",
       "std       60557.081792        9989.449987\n",
       "min        3017.070000           0.000000\n",
       "25%        4942.815000         534.910000\n",
       "50%       10442.090000        1137.170000\n",
       "75%       24707.320000        2730.195000\n",
       "max      583436.720000      110666.930000"
      ]
     },
     "execution_count": 65,
     "metadata": {},
     "output_type": "execute_result"
    }
   ],
   "source": [
    "df.describe()"
   ]
  },
  {
   "cell_type": "code",
   "execution_count": 63,
   "id": "efa2ddde",
   "metadata": {},
   "outputs": [
    {
     "data": {
      "text/html": [
       "<div>\n",
       "<style scoped>\n",
       "    .dataframe tbody tr th:only-of-type {\n",
       "        vertical-align: middle;\n",
       "    }\n",
       "\n",
       "    .dataframe tbody tr th {\n",
       "        vertical-align: top;\n",
       "    }\n",
       "\n",
       "    .dataframe thead th {\n",
       "        text-align: right;\n",
       "    }\n",
       "</style>\n",
       "<table border=\"1\" class=\"dataframe\">\n",
       "  <thead>\n",
       "    <tr style=\"text-align: right;\">\n",
       "      <th></th>\n",
       "      <th>Mar Cap - Crore</th>\n",
       "      <th>Sales Qtr - Crore</th>\n",
       "    </tr>\n",
       "  </thead>\n",
       "  <tbody>\n",
       "    <tr>\n",
       "      <th>count</th>\n",
       "      <td>455.000000</td>\n",
       "      <td>455.000000</td>\n",
       "    </tr>\n",
       "    <tr>\n",
       "      <th>mean</th>\n",
       "      <td>24836.685077</td>\n",
       "      <td>3487.270440</td>\n",
       "    </tr>\n",
       "    <tr>\n",
       "      <th>std</th>\n",
       "      <td>41636.047400</td>\n",
       "      <td>8828.907123</td>\n",
       "    </tr>\n",
       "    <tr>\n",
       "      <th>min</th>\n",
       "      <td>3017.070000</td>\n",
       "      <td>0.000000</td>\n",
       "    </tr>\n",
       "    <tr>\n",
       "      <th>25%</th>\n",
       "      <td>4926.500000</td>\n",
       "      <td>533.215000</td>\n",
       "    </tr>\n",
       "    <tr>\n",
       "      <th>50%</th>\n",
       "      <td>10338.400000</td>\n",
       "      <td>1106.310000</td>\n",
       "    </tr>\n",
       "    <tr>\n",
       "      <th>75%</th>\n",
       "      <td>23641.185000</td>\n",
       "      <td>2638.245000</td>\n",
       "    </tr>\n",
       "    <tr>\n",
       "      <th>max</th>\n",
       "      <td>289497.370000</td>\n",
       "      <td>110666.930000</td>\n",
       "    </tr>\n",
       "  </tbody>\n",
       "</table>\n",
       "</div>"
      ],
      "text/plain": [
       "       Mar Cap - Crore  Sales Qtr - Crore\n",
       "count       455.000000         455.000000\n",
       "mean      24836.685077        3487.270440\n",
       "std       41636.047400        8828.907123\n",
       "min        3017.070000           0.000000\n",
       "25%        4926.500000         533.215000\n",
       "50%       10338.400000        1106.310000\n",
       "75%       23641.185000        2638.245000\n",
       "max      289497.370000      110666.930000"
      ]
     },
     "execution_count": 63,
     "metadata": {},
     "output_type": "execute_result"
    }
   ],
   "source": [
    "dt1.describe()"
   ]
  },
  {
   "cell_type": "code",
   "execution_count": 64,
   "id": "266da937",
   "metadata": {},
   "outputs": [
    {
     "name": "stdout",
     "output_type": "stream",
     "text": [
      "<class 'pandas.core.frame.DataFrame'>\n",
      "Index: 455 entries, 0 to 458\n",
      "Data columns (total 3 columns):\n",
      " #   Column             Non-Null Count  Dtype  \n",
      "---  ------             --------------  -----  \n",
      " 0   Name               455 non-null    object \n",
      " 1   Mar Cap - Crore    455 non-null    float64\n",
      " 2   Sales Qtr - Crore  455 non-null    float64\n",
      "dtypes: float64(2), object(1)\n",
      "memory usage: 14.2+ KB\n"
     ]
    }
   ],
   "source": [
    "dt1.info()"
   ]
  },
  {
   "cell_type": "code",
   "execution_count": 41,
   "id": "0f442582",
   "metadata": {},
   "outputs": [
    {
     "name": "stderr",
     "output_type": "stream",
     "text": [
      "C:\\ProgramData\\anaconda3\\Lib\\site-packages\\seaborn\\_oldcore.py:1498: FutureWarning: is_categorical_dtype is deprecated and will be removed in a future version. Use isinstance(dtype, CategoricalDtype) instead\n",
      "  if pd.api.types.is_categorical_dtype(vector):\n",
      "C:\\ProgramData\\anaconda3\\Lib\\site-packages\\seaborn\\_oldcore.py:1119: FutureWarning: use_inf_as_na option is deprecated and will be removed in a future version. Convert inf values to NaN before operating instead.\n",
      "  with pd.option_context('mode.use_inf_as_na', True):\n"
     ]
    },
    {
     "data": {
      "image/png": "[encoded data removed]",
      "text/plain": [
       "<Figure size 1000x600 with 1 Axes>"
      ]
     },
     "metadata": {},
     "output_type": "display_data"
    }
   ],
   "source": [
    "# 1. Distribution of Market Cap\n",
    "plt.figure(figsize=(10, 6))\n",
    "sns.histplot(df['Mar Cap - Crore'], kde=True, bins=30)\n",
    "plt.title('Distribution of Market Capitalization')\n",
    "plt.xlabel('Market Cap (Crore)')\n",
    "plt.ylabel('Frequency')\n",
    "plt.show()"
   ]
  },
  {
   "cell_type": "code",
   "execution_count": 42,
   "id": "d05f52f3",
   "metadata": {},
   "outputs": [
    {
     "name": "stdout",
     "output_type": "stream",
     "text": [
      "Summary Statistics for Sales Qtr - Crore:\n"
     ]
    },
    {
     "data": {
      "text/plain": [
       "count       459.000000\n",
       "mean       3807.789412\n",
       "std        9989.449987\n",
       "min           0.000000\n",
       "25%         534.910000\n",
       "50%        1137.170000\n",
       "75%        2730.195000\n",
       "max      110666.930000\n",
       "Name: Sales Qtr - Crore, dtype: float64"
      ]
     },
     "execution_count": 42,
     "metadata": {},
     "output_type": "execute_result"
    }
   ],
   "source": [
    "# 2. Summary Statistics for Sales\n",
    "print(\"Summary Statistics for Sales Qtr - Crore:\")\n",
    "data['Sales Qtr - Crore'].describe()"
   ]
  },
  {
   "cell_type": "markdown",
   "id": "426937c5",
   "metadata": {},
   "source": [
    "## BIVARIATE ANALYSIS"
   ]
  },
  {
   "cell_type": "code",
   "execution_count": 43,
   "id": "41ea5964",
   "metadata": {},
   "outputs": [
    {
     "name": "stderr",
     "output_type": "stream",
     "text": [
      "C:\\ProgramData\\anaconda3\\Lib\\site-packages\\seaborn\\_oldcore.py:1498: FutureWarning: is_categorical_dtype is deprecated and will be removed in a future version. Use isinstance(dtype, CategoricalDtype) instead\n",
      "  if pd.api.types.is_categorical_dtype(vector):\n",
      "C:\\ProgramData\\anaconda3\\Lib\\site-packages\\seaborn\\_oldcore.py:1498: FutureWarning: is_categorical_dtype is deprecated and will be removed in a future version. Use isinstance(dtype, CategoricalDtype) instead\n",
      "  if pd.api.types.is_categorical_dtype(vector):\n"
     ]
    },
    {
     "data": {
      "image/png": "[encoded data removed]",
      "text/plain": [
       "<Figure size 1000x600 with 1 Axes>"
      ]
     },
     "metadata": {},
     "output_type": "display_data"
    }
   ],
   "source": [
    "# Scatter Plot: Market Cap vs Sales\n",
    "plt.figure(figsize=(10, 6))\n",
    "sns.scatterplot(x='Mar Cap - Crore', y='Sales Qtr - Crore', data=df)\n",
    "plt.title('Market Cap vs Sales')\n",
    "plt.xlabel('Market Cap (Crore)')\n",
    "plt.ylabel('Sales Qtr (Crore)')\n",
    "plt.show()"
   ]
  },
  {
   "cell_type": "code",
   "execution_count": 66,
   "id": "8a3d642e",
   "metadata": {},
   "outputs": [
    {
     "name": "stderr",
     "output_type": "stream",
     "text": [
      "C:\\ProgramData\\anaconda3\\Lib\\site-packages\\seaborn\\_oldcore.py:1498: FutureWarning: is_categorical_dtype is deprecated and will be removed in a future version. Use isinstance(dtype, CategoricalDtype) instead\n",
      "  if pd.api.types.is_categorical_dtype(vector):\n",
      "C:\\ProgramData\\anaconda3\\Lib\\site-packages\\seaborn\\_oldcore.py:1498: FutureWarning: is_categorical_dtype is deprecated and will be removed in a future version. Use isinstance(dtype, CategoricalDtype) instead\n",
      "  if pd.api.types.is_categorical_dtype(vector):\n"
     ]
    },
    {
     "data": {
      "image/png": "[encoded data removed]",
      "text/plain": [
       "<Figure size 1000x600 with 1 Axes>"
      ]
     },
     "metadata": {},
     "output_type": "display_data"
    }
   ],
   "source": [
    "# Scatter Plot: Market Cap vs Sales\n",
    "plt.figure(figsize=(10, 6))\n",
    "sns.scatterplot(x='Mar Cap - Crore', y='Sales Qtr - Crore', data=dt1)\n",
    "plt.title('Market Cap vs Sales')\n",
    "plt.xlabel('Market Cap (Crore)')\n",
    "plt.ylabel('Sales Qtr (Crore)')\n",
    "plt.show()"
   ]
  },
  {
   "cell_type": "code",
   "execution_count": 48,
   "id": "0bd09a42",
   "metadata": {},
   "outputs": [
    {
     "name": "stdout",
     "output_type": "stream",
     "text": [
      "\n",
      "Correlation between Market Cap and Sales:\n"
     ]
    },
    {
     "data": {
      "text/html": [
       "<div>\n",
       "<style scoped>\n",
       "    .dataframe tbody tr th:only-of-type {\n",
       "        vertical-align: middle;\n",
       "    }\n",
       "\n",
       "    .dataframe tbody tr th {\n",
       "        vertical-align: top;\n",
       "    }\n",
       "\n",
       "    .dataframe thead th {\n",
       "        text-align: right;\n",
       "    }\n",
       "</style>\n",
       "<table border=\"1\" class=\"dataframe\">\n",
       "  <thead>\n",
       "    <tr style=\"text-align: right;\">\n",
       "      <th></th>\n",
       "      <th>Mar Cap - Crore</th>\n",
       "      <th>Sales Qtr - Crore</th>\n",
       "    </tr>\n",
       "  </thead>\n",
       "  <tbody>\n",
       "    <tr>\n",
       "      <th>Mar Cap - Crore</th>\n",
       "      <td>1.000000</td>\n",
       "      <td>0.624409</td>\n",
       "    </tr>\n",
       "    <tr>\n",
       "      <th>Sales Qtr - Crore</th>\n",
       "      <td>0.624409</td>\n",
       "      <td>1.000000</td>\n",
       "    </tr>\n",
       "  </tbody>\n",
       "</table>\n",
       "</div>"
      ],
      "text/plain": [
       "                   Mar Cap - Crore  Sales Qtr - Crore\n",
       "Mar Cap - Crore           1.000000           0.624409\n",
       "Sales Qtr - Crore         0.624409           1.000000"
      ]
     },
     "execution_count": 48,
     "metadata": {},
     "output_type": "execute_result"
    }
   ],
   "source": [
    "correlation = data[['Mar Cap - Crore', 'Sales Qtr - Crore']].corr()\n",
    "print(\"\\nCorrelation between Market Cap and Sales:\")\n",
    "correlation"
   ]
  },
  {
   "cell_type": "markdown",
   "id": "83f4fafb",
   "metadata": {},
   "source": [
    "#### - The correlation between Market Capitalization and Sales for the Quarter is 0.624, indicating a moderate positive relationship. \n",
    "#### - This suggests that companies with higher market capitalization tend to have higher sales, but this is not a strict rule.\n"
   ]
  },
  {
   "cell_type": "code",
   "execution_count": null,
   "id": "bf24574e",
   "metadata": {},
   "outputs": [],
   "source": []
  },
  {
   "cell_type": "markdown",
   "id": "750b9b3d",
   "metadata": {},
   "source": [
    " ### Key Insights:\n",
    "\n",
    "##### Positive Correlation: The moderate positive correlation between market cap and sales suggests that while larger companies tend to generate more revenue, other factors likely influence this relationship, as not all companies with high market caps have correspondingly high sales.\n",
    "##### Distribution Observations: Both market cap and sales distributions are right-skewed, indicating a wide disparity among companies, with a few very large companies significantly influencing the overall averages.\n",
    "###### Data Gaps: The presence of missing sales data should be addressed, as it may impact the robustness of any further analysis.\n",
    "#### Recommendations:To gain deeper insights, it might be useful to segment the companies by industry or size and explore relationships within those segments."
   ]
  },
  {
   "cell_type": "markdown",
   "id": "96983cac",
   "metadata": {},
   "source": []
  },
  {
   "cell_type": "code",
   "execution_count": null,
   "id": "bc48218b",
   "metadata": {},
   "outputs": [],
   "source": []
  }
 ],
 "metadata": {
  "kernelspec": {
   "display_name": "Python 3 (ipykernel)",
   "language": "python",
   "name": "python3"
  },
  "language_info": {
   "codemirror_mode": {
    "name": "ipython",
    "version": 3
   },
   "file_extension": ".py",
   "mimetype": "text/x-python",
   "name": "python",
   "nbconvert_exporter": "python",
   "pygments_lexer": "ipython3",
   "version": "3.11.5"
  }
 },
 "nbformat": 4,
 "nbformat_minor": 5
}
